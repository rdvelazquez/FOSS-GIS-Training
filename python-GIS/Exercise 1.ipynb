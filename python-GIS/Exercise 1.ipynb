{
 "cells": [
  {
   "cell_type": "markdown",
   "metadata": {},
   "source": [
    "# Exercise 1\n",
    "https://github.com/AutoGIS-2017/Exercise-1"
   ]
  },
  {
   "cell_type": "code",
   "execution_count": 1,
   "metadata": {},
   "outputs": [],
   "source": [
    "from shapely.geometry import Point, LineString, Polygon\n",
    "import pandas as pd"
   ]
  },
  {
   "cell_type": "markdown",
   "metadata": {},
   "source": [
    "### Problem 1:  Creating basic geometries"
   ]
  },
  {
   "cell_type": "markdown",
   "metadata": {},
   "source": [
    "1.1 Create a function called createPointGeom() that has two parameters (x_coord, y_coord). Function should create a shapely Point geometry object and return that. Demonstrate the usage of the function by creating Point -objects with the function."
   ]
  },
  {
   "cell_type": "code",
   "execution_count": 2,
   "metadata": {},
   "outputs": [
    {
     "data": {
      "image/svg+xml": [
       "<svg xmlns=\"http://www.w3.org/2000/svg\" xmlns:xlink=\"http://www.w3.org/1999/xlink\" width=\"100.0\" height=\"100.0\" viewBox=\"0.0 1.0 2.0 2.0\" preserveAspectRatio=\"xMinYMin meet\"><g transform=\"matrix(1,0,0,-1,0,4.0)\"><circle cx=\"1.0\" cy=\"2.0\" r=\"0.06\" stroke=\"#555555\" stroke-width=\"0.02\" fill=\"#66cc99\" opacity=\"0.6\" /></g></svg>"
      ],
      "text/plain": [
       "<shapely.geometry.point.Point at 0x7f8709f9f5f8>"
      ]
     },
     "execution_count": 2,
     "metadata": {},
     "output_type": "execute_result"
    }
   ],
   "source": [
    "def createPointGeom(x, y):\n",
    "    return(Point(x,y))\n",
    "examplePoint = createPointGeom(1,2)\n",
    "examplePoint"
   ]
  },
  {
   "cell_type": "markdown",
   "metadata": {},
   "source": [
    "1.2 Create a function called createLineGeom() that takes a list of Shapely Point objects as parameter and returns a LineString object of those input points. Function should first check that the input list really contains Shapely Point(s). Demonstrate the usage of the function by creating LineString -objects with the function."
   ]
  },
  {
   "cell_type": "code",
   "execution_count": 3,
   "metadata": {},
   "outputs": [
    {
     "data": {
      "image/svg+xml": [
       "<svg xmlns=\"http://www.w3.org/2000/svg\" xmlns:xlink=\"http://www.w3.org/1999/xlink\" width=\"100.0\" height=\"100.0\" viewBox=\"-10.6 -10.6 16.2 14.2\" preserveAspectRatio=\"xMinYMin meet\"><g transform=\"matrix(1,0,0,-1,0,-7.0)\"><polyline fill=\"none\" stroke=\"#66cc99\" stroke-width=\"0.324\" points=\"1.0,2.0 3.0,3.0 -10.0,-10.0 5.0,-5.0\" opacity=\"0.8\" /></g></svg>"
      ],
      "text/plain": [
       "<shapely.geometry.linestring.LineString at 0x7f8709f9ff98>"
      ]
     },
     "execution_count": 3,
     "metadata": {},
     "output_type": "execute_result"
    }
   ],
   "source": [
    "def createLineGeom(points):\n",
    "    return(LineString(points))\n",
    "examplePointList = [Point(1,2), Point(3,3), Point(-10,-10), Point(5,-5)]\n",
    "exampleLineString = createLineGeom(examplePointList)\n",
    "exampleLineString"
   ]
  },
  {
   "cell_type": "markdown",
   "metadata": {},
   "source": [
    "1.3 Create a function called createPolyGeom() that takes a list of coordinate tuples OR a list of Shapely Point objects and creates/returns a Polygon object of the input data. Both ways of passing the data to the function should be working. Demonstrate the usage of the function by passing data first with coordinate-tuples and then with Point -objects."
   ]
  },
  {
   "cell_type": "code",
   "execution_count": 4,
   "metadata": {},
   "outputs": [],
   "source": [
    "def createPolyGeom(pointsObject):\n",
    "    if isinstance(pointsObject[0], Point):\n",
    "        pointsList = [(point.x, point.y) for point in pointsObject]\n",
    "    else:\n",
    "        pointsList = pointsObject\n",
    "    return(Polygon(pointsList))    "
   ]
  },
  {
   "cell_type": "code",
   "execution_count": 5,
   "metadata": {},
   "outputs": [
    {
     "data": {
      "image/svg+xml": [
       "<svg xmlns=\"http://www.w3.org/2000/svg\" xmlns:xlink=\"http://www.w3.org/1999/xlink\" width=\"100.0\" height=\"100.0\" viewBox=\"-10.6 -10.6 16.2 14.2\" preserveAspectRatio=\"xMinYMin meet\"><g transform=\"matrix(1,0,0,-1,0,-7.0)\"><path fill-rule=\"evenodd\" fill=\"#ff3333\" stroke=\"#555555\" stroke-width=\"0.324\" opacity=\"0.6\" d=\"M 1.0,2.0 L 3.0,3.0 L -10.0,-10.0 L 5.0,-5.0 L 1.0,2.0 z\" /></g></svg>"
      ],
      "text/plain": [
       "<shapely.geometry.polygon.Polygon at 0x7f8709fc6048>"
      ]
     },
     "execution_count": 5,
     "metadata": {},
     "output_type": "execute_result"
    }
   ],
   "source": [
    "# Test if it works for a list of points\n",
    "examplePolygonWithPoints = createPolyGeom(examplePointList)\n",
    "examplePolygonWithPoints"
   ]
  },
  {
   "cell_type": "code",
   "execution_count": 6,
   "metadata": {},
   "outputs": [
    {
     "data": {
      "image/svg+xml": [
       "<svg xmlns=\"http://www.w3.org/2000/svg\" xmlns:xlink=\"http://www.w3.org/1999/xlink\" width=\"100.0\" height=\"100.0\" viewBox=\"-0.4 -0.4 10.8 10.8\" preserveAspectRatio=\"xMinYMin meet\"><g transform=\"matrix(1,0,0,-1,0,10.0)\"><path fill-rule=\"evenodd\" fill=\"#66cc99\" stroke=\"#555555\" stroke-width=\"0.21600000000000003\" opacity=\"0.6\" d=\"M 0.0,0.0 L 0.0,10.0 L 10.0,10.0 L 10.0,0.0 L 0.0,0.0 z\" /></g></svg>"
      ],
      "text/plain": [
       "<shapely.geometry.polygon.Polygon at 0x7f8709fc6b38>"
      ]
     },
     "execution_count": 6,
     "metadata": {},
     "output_type": "execute_result"
    }
   ],
   "source": [
    "# Test if it works for a list of coordinates\n",
    "exampleListOfCoordinates = [(0,0), (0,10), (10,10), (10,0)]\n",
    "examplePolygonWithCoords = createPolyGeom(exampleListOfCoordinates)\n",
    "examplePolygonWithCoords"
   ]
  },
  {
   "cell_type": "markdown",
   "metadata": {},
   "source": [
    "### Promlem 2: Attributes of geometries"
   ]
  },
  {
   "cell_type": "markdown",
   "metadata": {},
   "source": [
    "2.1 Create a function called getCentroid() that takes any kind of Shapely's geometric -object as input and returns a centroid of that geometry. Demonstrate the usage of the function."
   ]
  },
  {
   "cell_type": "code",
   "execution_count": 7,
   "metadata": {},
   "outputs": [
    {
     "name": "stdout",
     "output_type": "stream",
     "text": [
      "getCentroid(examplePoint):  POINT (1 2)\n",
      "getCentroid(exampleLineString):  POINT (-2.72843701361772 -4.867721432288817)\n",
      "getCentroid(examplePolygonWithPoints):  POINT (-1.255952380952381 -4.642857142857143)\n"
     ]
    }
   ],
   "source": [
    "def getCentroid(geometryObject):\n",
    "    return(geometryObject.centroid)\n",
    "print('getCentroid(examplePoint): ', getCentroid(examplePoint))\n",
    "print('getCentroid(exampleLineString): ', getCentroid(exampleLineString))\n",
    "print('getCentroid(examplePolygonWithPoints): ', getCentroid(examplePolygonWithPoints))"
   ]
  },
  {
   "cell_type": "markdown",
   "metadata": {},
   "source": [
    "2.2 Create a function called getArea() that takes a Shapely's Polygon -object as input and returns the area of that geometry. Demonstrate the usage of the function."
   ]
  },
  {
   "cell_type": "code",
   "execution_count": 8,
   "metadata": {},
   "outputs": [
    {
     "name": "stdout",
     "output_type": "stream",
     "text": [
      "--- points and lines SHOULDNT have an area ---\n",
      "getArea(examplePoint):  0.0\n",
      "getArea(exampleLineString):  0.0\n",
      "--- Polygons SHOULD have an area ---\n",
      "getArea(examplePolygonWithPoints):  56.0\n"
     ]
    }
   ],
   "source": [
    "def getArea(geometryObject):\n",
    "    return(geometryObject.area)\n",
    "print('--- points and lines SHOULDNT have an area ---')\n",
    "print('getArea(examplePoint): ', getArea(examplePoint))\n",
    "print('getArea(exampleLineString): ', getArea(exampleLineString))\n",
    "print('--- Polygons SHOULD have an area ---')\n",
    "print('getArea(examplePolygonWithPoints): ', getArea(examplePolygonWithPoints))"
   ]
  },
  {
   "cell_type": "markdown",
   "metadata": {},
   "source": [
    "2.3 Create a function called getLength() takes either a Shapely's LineString or Polygon -object as input. Function should check the type of the input and returns the length of the line if input is LineString and length of the exterior ring if input is Polygon. If something else is passed to the function, it should tell the user --> \"Error: LineString or Polygon geometries required!\". Demonstrate the usage of the function."
   ]
  },
  {
   "cell_type": "code",
   "execution_count": 9,
   "metadata": {},
   "outputs": [
    {
     "name": "stdout",
     "output_type": "stream",
     "text": [
      "getLength(examplePoint):  Error: LineString or Polygon geometries required!\n",
      "getLength(exampleLineString):  36.43223258919192\n",
      "getLength(examplePolygonWithPoints):  44.49449033749047\n"
     ]
    }
   ],
   "source": [
    "def getLength(geometryObject):\n",
    "    if isinstance(geometryObject, (LineString, Polygon)):\n",
    "        return(geometryObject.length)\n",
    "    else:\n",
    "        return(\"Error: LineString or Polygon geometries required!\")\n",
    "print('getLength(examplePoint): ', getLength(examplePoint))\n",
    "print('getLength(exampleLineString): ', getLength(exampleLineString))\n",
    "print('getLength(examplePolygonWithPoints): ', getLength(examplePolygonWithPoints))"
   ]
  },
  {
   "cell_type": "markdown",
   "metadata": {},
   "source": [
    "### Problem 3: Reading coordinates from a file and creating a geometries\n",
    "\n",
    "One of the \"classical\" problems in GIS is the situation where you have a set of coordinates in a file and you need to get them into a map (or into a GIS-software). Python is a really handy\n",
    "tool to solve this problem as with Python it is basically possible to read data from any kind of input datafile (such as csv-, txt-, excel-, or gpx-files (gps data) or from different databases). \n",
    "So far, I haven't faced any kind of data or file that would be impossible to read with Python. \n",
    "\n",
    "Thus, let's see how we can read data from a file and create Point -objects from them that can be saved e.g. as a new Shapefile (we will learn this next week). \n",
    "Our dataset **[travelTimes_2015_Helsinki.txt](data/travelTimes_2015_Helsinki.txt)** consist of \n",
    "travel times between specific locations in Helsinki Region. The first four rows of our data looks like this:\n",
    "\n",
    "```\n",
    "   from_id;to_id;fromid_toid;route_number;at;from_x;from_y;to_x;to_y;total_route_time;route_time;route_distance;route_total_lines\n",
    "   5861326;5785640;5861326_5785640;1;08:10;24.9704379;60.3119173;24.8560344;60.399940599999994;125.0;99.0;22917.6;2.0\n",
    "   5861326;5785641;5861326_5785641;1;08:10;24.9704379;60.3119173;24.8605682;60.4000135;123.0;102.0;23123.5;2.0\n",
    "   5861326;5785642;5861326_5785642;1;08:10;24.9704379;60.3119173;24.865102;60.4000863;125.0;103.0;23241.3;2.0\n",
    "```\n",
    "\n",
    "Thus, we have many columns of data, but the few important ones are:\n",
    "\n",
    "| Column | Description |\n",
    "|--------|-------------|\n",
    "| from_x | x-coordinate of the **origin** location (longitude) |\n",
    "| from_y | y-coordinate of the **origin** location (latitude) |\n",
    "| to_x   | x-coordinate of the **destination** location (longitude)|\n",
    "| to_y   | y-coordinate of the **destination** location (latitude) |\n",
    "| total_route_time | Travel time with public transportation at the route |\n",
    "\n",
    "### Tasks\n",
    "\n",
    "1. Save the [travelTimes_2015_Helsinki.txt](data/travelTimes_2015_Helsinki.txt) into your computer.\n",
    "2. Read 4 columns, i.e. 'from_x', 'from_y', 'to_x', 'to_y' from the data into Python using Pandas.\n",
    "3. Create two lists called `orig_points` and `dest_points`\n",
    "4. Iterate over the rows of your DataFrame and add Shapely Point -objects into the orig_points -list and dest_point -list representing the origin \n",
    "locations and destination locations accordingly."
   ]
  },
  {
   "cell_type": "code",
   "execution_count": 10,
   "metadata": {},
   "outputs": [
    {
     "data": {
      "text/html": [
       "<div>\n",
       "<style scoped>\n",
       "    .dataframe tbody tr th:only-of-type {\n",
       "        vertical-align: middle;\n",
       "    }\n",
       "\n",
       "    .dataframe tbody tr th {\n",
       "        vertical-align: top;\n",
       "    }\n",
       "\n",
       "    .dataframe thead th {\n",
       "        text-align: right;\n",
       "    }\n",
       "</style>\n",
       "<table border=\"1\" class=\"dataframe\">\n",
       "  <thead>\n",
       "    <tr style=\"text-align: right;\">\n",
       "      <th></th>\n",
       "      <th>from_x</th>\n",
       "      <th>from_y</th>\n",
       "      <th>to_x</th>\n",
       "      <th>to_y</th>\n",
       "    </tr>\n",
       "  </thead>\n",
       "  <tbody>\n",
       "    <tr>\n",
       "      <th>0</th>\n",
       "      <td>24.970438</td>\n",
       "      <td>60.311917</td>\n",
       "      <td>24.856034</td>\n",
       "      <td>60.399941</td>\n",
       "    </tr>\n",
       "    <tr>\n",
       "      <th>1</th>\n",
       "      <td>24.970438</td>\n",
       "      <td>60.311917</td>\n",
       "      <td>24.860568</td>\n",
       "      <td>60.400014</td>\n",
       "    </tr>\n",
       "    <tr>\n",
       "      <th>2</th>\n",
       "      <td>24.970438</td>\n",
       "      <td>60.311917</td>\n",
       "      <td>24.865102</td>\n",
       "      <td>60.400086</td>\n",
       "    </tr>\n",
       "    <tr>\n",
       "      <th>3</th>\n",
       "      <td>24.970438</td>\n",
       "      <td>60.311917</td>\n",
       "      <td>24.869636</td>\n",
       "      <td>60.400159</td>\n",
       "    </tr>\n",
       "    <tr>\n",
       "      <th>4</th>\n",
       "      <td>24.970438</td>\n",
       "      <td>60.311917</td>\n",
       "      <td>24.842582</td>\n",
       "      <td>60.397478</td>\n",
       "    </tr>\n",
       "  </tbody>\n",
       "</table>\n",
       "</div>"
      ],
      "text/plain": [
       "      from_x     from_y       to_x       to_y\n",
       "0  24.970438  60.311917  24.856034  60.399941\n",
       "1  24.970438  60.311917  24.860568  60.400014\n",
       "2  24.970438  60.311917  24.865102  60.400086\n",
       "3  24.970438  60.311917  24.869636  60.400159\n",
       "4  24.970438  60.311917  24.842582  60.397478"
      ]
     },
     "execution_count": 10,
     "metadata": {},
     "output_type": "execute_result"
    }
   ],
   "source": [
    "helsinkiData = pd.read_csv('./travelTimes_2015_Helsinki.txt', sep=';', usecols=['from_x', 'from_y', 'to_x', 'to_y'])\n",
    "helsinkiData.head()"
   ]
  },
  {
   "cell_type": "code",
   "execution_count": 11,
   "metadata": {},
   "outputs": [
    {
     "name": "stdout",
     "output_type": "stream",
     "text": [
      "[<shapely.geometry.point.Point object at 0x7f8709f9feb8>, <shapely.geometry.point.Point object at 0x7f86b844f358>]\n"
     ]
    }
   ],
   "source": [
    "orig_x = helsinkiData['from_x'].tolist()\n",
    "orig_y = helsinkiData['from_y'].tolist()\n",
    "orig_points = [Point(x, y) for x,y in zip(orig_x, orig_y)]\n",
    "print(orig_points[0:2])"
   ]
  },
  {
   "cell_type": "code",
   "execution_count": 12,
   "metadata": {},
   "outputs": [],
   "source": [
    "def getFromPoint(row):\n",
    "    return(Point(row['from_x'], row['from_y']))\n",
    "helsinkiData['from_point'] = helsinkiData.apply (getFromPoint, axis=1)\n",
    "\n",
    "def getToPoint(row):\n",
    "    return(Point(row['to_x'], row['to_y']))\n",
    "helsinkiData['to_point'] = helsinkiData.apply (getToPoint, axis=1)"
   ]
  },
  {
   "cell_type": "code",
   "execution_count": 13,
   "metadata": {},
   "outputs": [
    {
     "data": {
      "text/html": [
       "<div>\n",
       "<style scoped>\n",
       "    .dataframe tbody tr th:only-of-type {\n",
       "        vertical-align: middle;\n",
       "    }\n",
       "\n",
       "    .dataframe tbody tr th {\n",
       "        vertical-align: top;\n",
       "    }\n",
       "\n",
       "    .dataframe thead th {\n",
       "        text-align: right;\n",
       "    }\n",
       "</style>\n",
       "<table border=\"1\" class=\"dataframe\">\n",
       "  <thead>\n",
       "    <tr style=\"text-align: right;\">\n",
       "      <th></th>\n",
       "      <th>from_x</th>\n",
       "      <th>from_y</th>\n",
       "      <th>to_x</th>\n",
       "      <th>to_y</th>\n",
       "      <th>from_point</th>\n",
       "      <th>to_point</th>\n",
       "    </tr>\n",
       "  </thead>\n",
       "  <tbody>\n",
       "    <tr>\n",
       "      <th>0</th>\n",
       "      <td>24.970438</td>\n",
       "      <td>60.311917</td>\n",
       "      <td>24.856034</td>\n",
       "      <td>60.399941</td>\n",
       "      <td>POINT (24.9704379 60.3119173)</td>\n",
       "      <td>POINT (24.8560344 60.3999406)</td>\n",
       "    </tr>\n",
       "    <tr>\n",
       "      <th>1</th>\n",
       "      <td>24.970438</td>\n",
       "      <td>60.311917</td>\n",
       "      <td>24.860568</td>\n",
       "      <td>60.400014</td>\n",
       "      <td>POINT (24.9704379 60.3119173)</td>\n",
       "      <td>POINT (24.8605682 60.4000135)</td>\n",
       "    </tr>\n",
       "    <tr>\n",
       "      <th>2</th>\n",
       "      <td>24.970438</td>\n",
       "      <td>60.311917</td>\n",
       "      <td>24.865102</td>\n",
       "      <td>60.400086</td>\n",
       "      <td>POINT (24.9704379 60.3119173)</td>\n",
       "      <td>POINT (24.865102 60.4000863)</td>\n",
       "    </tr>\n",
       "    <tr>\n",
       "      <th>3</th>\n",
       "      <td>24.970438</td>\n",
       "      <td>60.311917</td>\n",
       "      <td>24.869636</td>\n",
       "      <td>60.400159</td>\n",
       "      <td>POINT (24.9704379 60.3119173)</td>\n",
       "      <td>POINT (24.8696358 60.4001589)</td>\n",
       "    </tr>\n",
       "    <tr>\n",
       "      <th>4</th>\n",
       "      <td>24.970438</td>\n",
       "      <td>60.311917</td>\n",
       "      <td>24.842582</td>\n",
       "      <td>60.397478</td>\n",
       "      <td>POINT (24.9704379 60.3119173)</td>\n",
       "      <td>POINT (24.8425817 60.39747779999999)</td>\n",
       "    </tr>\n",
       "  </tbody>\n",
       "</table>\n",
       "</div>"
      ],
      "text/plain": [
       "      from_x     from_y       to_x       to_y                     from_point  \\\n",
       "0  24.970438  60.311917  24.856034  60.399941  POINT (24.9704379 60.3119173)   \n",
       "1  24.970438  60.311917  24.860568  60.400014  POINT (24.9704379 60.3119173)   \n",
       "2  24.970438  60.311917  24.865102  60.400086  POINT (24.9704379 60.3119173)   \n",
       "3  24.970438  60.311917  24.869636  60.400159  POINT (24.9704379 60.3119173)   \n",
       "4  24.970438  60.311917  24.842582  60.397478  POINT (24.9704379 60.3119173)   \n",
       "\n",
       "                               to_point  \n",
       "0         POINT (24.8560344 60.3999406)  \n",
       "1         POINT (24.8605682 60.4000135)  \n",
       "2          POINT (24.865102 60.4000863)  \n",
       "3         POINT (24.8696358 60.4001589)  \n",
       "4  POINT (24.8425817 60.39747779999999)  "
      ]
     },
     "execution_count": 13,
     "metadata": {},
     "output_type": "execute_result"
    }
   ],
   "source": [
    "helsinkiData.head()"
   ]
  },
  {
   "cell_type": "code",
   "execution_count": 16,
   "metadata": {},
   "outputs": [
    {
     "data": {
      "image/svg+xml": [
       "<svg xmlns=\"http://www.w3.org/2000/svg\" xmlns:xlink=\"http://www.w3.org/1999/xlink\" width=\"100.0\" height=\"100.0\" viewBox=\"23.9704379 59.3119173 2.0 2.0\" preserveAspectRatio=\"xMinYMin meet\"><g transform=\"matrix(1,0,0,-1,0,120.6238346)\"><circle cx=\"24.9704379\" cy=\"60.3119173\" r=\"0.06\" stroke=\"#555555\" stroke-width=\"0.02\" fill=\"#66cc99\" opacity=\"0.6\" /></g></svg>"
      ],
      "text/plain": [
       "<shapely.geometry.point.Point at 0x7f86b844f320>"
      ]
     },
     "execution_count": 16,
     "metadata": {},
     "output_type": "execute_result"
    }
   ],
   "source": [
    "# confirm that it is actually a point\n",
    "helsinkiData['from_point'].tolist()[0]"
   ]
  }
 ],
 "metadata": {
  "kernelspec": {
   "display_name": "Python 3",
   "language": "python",
   "name": "python3"
  },
  "language_info": {
   "codemirror_mode": {
    "name": "ipython",
    "version": 3
   },
   "file_extension": ".py",
   "mimetype": "text/x-python",
   "name": "python",
   "nbconvert_exporter": "python",
   "pygments_lexer": "ipython3",
   "version": "3.7.3"
  }
 },
 "nbformat": 4,
 "nbformat_minor": 2
}
