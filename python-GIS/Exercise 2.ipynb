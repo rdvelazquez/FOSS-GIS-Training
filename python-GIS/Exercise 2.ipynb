{
 "cells": [
  {
   "cell_type": "markdown",
   "metadata": {},
   "source": [
    "# Exercise 2 from the intro to python gis course\n",
    "https://github.com/AutoGIS-2017/Exercise-2"
   ]
  },
  {
   "cell_type": "code",
   "execution_count": 1,
   "metadata": {},
   "outputs": [],
   "source": [
    "import geopandas as gpd\n",
    "import pandas as pd\n",
    "from shapely.geometry import Point, LineString, Polygon\n",
    "import fiona"
   ]
  },
  {
   "cell_type": "markdown",
   "metadata": {},
   "source": [
    "### Problem 1: Create Polygon from lists of coordinates (6 points)"
   ]
  },
  {
   "cell_type": "code",
   "execution_count": 2,
   "metadata": {},
   "outputs": [],
   "source": [
    "# X -coordinates \n",
    "xcoords = [29.99671173095703, 31.58196258544922, 27.738052368164062, 26.50013542175293, 26.652359008789062, 25.921663284301758, 22.90027618408203, 23.257217407226562,\n",
    "           23.335693359375, 22.87444305419922, 23.08465003967285, 22.565473556518555, 21.452774047851562, 21.66388702392578, 21.065969467163086, 21.67659568786621,\n",
    "           21.496871948242188, 22.339998245239258, 22.288192749023438, 24.539581298828125, 25.444232940673828, 25.303749084472656, 24.669166564941406, 24.689163208007812,\n",
    "           24.174999237060547, 23.68471908569336, 24.000761032104492, 23.57332992553711, 23.76513671875, 23.430830001831055, 23.6597900390625, 20.580928802490234, 21.320831298828125,\n",
    "           22.398330688476562, 23.97638702392578, 24.934917449951172, 25.7611083984375, 25.95930290222168, 26.476804733276367, 27.91069221496582, 29.1027774810791, 29.29846954345703,\n",
    "           28.4355525970459, 28.817358016967773, 28.459857940673828, 30.028610229492188, 29.075136184692383, 30.13492774963379, 29.818885803222656, 29.640830993652344, 30.57735824584961,\n",
    "           29.99671173095703]\n",
    "\n",
    "# Y -coordinates\n",
    "ycoords = [63.748023986816406, 62.90789794921875, 60.511383056640625, 60.44499588012695, 60.646385192871094, 60.243743896484375, 59.806800842285156, 59.91944122314453,\n",
    "           60.02395248413086, 60.14555358886719, 60.3452033996582, 60.211936950683594, 60.56249237060547, 61.54027557373047, 62.59798049926758, 63.02013397216797,\n",
    "           63.20353698730469, 63.27652359008789, 63.525691986083984, 64.79915618896484, 64.9533920288086, 65.51513671875, 65.65470886230469, 65.89610290527344, 65.79151916503906,\n",
    "           66.26332092285156, 66.80228424072266, 67.1570053100586, 67.4168701171875, 67.47978210449219, 67.94589233398438, 69.060302734375, 69.32611083984375, 68.71110534667969,\n",
    "           68.83248901367188, 68.580810546875, 68.98916625976562, 69.68568420410156, 69.9363784790039, 70.08860778808594, 69.70597076416016, 69.48533630371094, 68.90263366699219,\n",
    "           68.84700012207031, 68.53485107421875, 67.69471740722656, 66.90360260009766, 65.70887756347656, 65.6533203125, 64.92096710205078, 64.22373962402344, 63.748023986816406]"
   ]
  },
  {
   "cell_type": "code",
   "execution_count": 3,
   "metadata": {},
   "outputs": [
    {
     "name": "stdout",
     "output_type": "stream",
     "text": [
      "(29.99671173095703, 63.748023986816406)\n"
     ]
    }
   ],
   "source": [
    "# P1. Create a list of x and y coordinate pairs out of xcoords and ycoords\n",
    "# ------------------------------------------------------------------------\n",
    "# Coordinate pair can be either a tuple or a list.\n",
    "# The first coordinate pair in the 'coordpairs' -list should look like: (29.99671173095703, 63.748023986816406)\n",
    "# Hint: you might want to iterate over items in the lists using a for-loop\n",
    "\n",
    "# lets avoid for loops and do some list comprehension\n",
    "coordpairs = [(x,y) for x,y in zip(xcoords, ycoords)]\n",
    "print(coordpairs[0])"
   ]
  },
  {
   "cell_type": "code",
   "execution_count": 4,
   "metadata": {},
   "outputs": [
    {
     "data": {
      "image/svg+xml": [
       "<svg xmlns=\"http://www.w3.org/2000/svg\" xmlns:xlink=\"http://www.w3.org/1999/xlink\" width=\"100.0\" height=\"100.0\" viewBox=\"20.140887451171874 59.3667594909668 11.881116485595701 11.161889648437494\" preserveAspectRatio=\"xMinYMin meet\"><g transform=\"matrix(1,0,0,-1,0,129.8954086303711)\"><path fill-rule=\"evenodd\" fill=\"#66cc99\" stroke=\"#555555\" stroke-width=\"0.23762232971191402\" opacity=\"0.6\" d=\"M 29.99671173095703,63.748023986816406 L 31.58196258544922,62.90789794921875 L 27.738052368164062,60.511383056640625 L 26.50013542175293,60.44499588012695 L 26.652359008789062,60.646385192871094 L 25.921663284301758,60.243743896484375 L 22.90027618408203,59.806800842285156 L 23.257217407226562,59.91944122314453 L 23.335693359375,60.02395248413086 L 22.87444305419922,60.14555358886719 L 23.08465003967285,60.3452033996582 L 22.565473556518555,60.211936950683594 L 21.452774047851562,60.56249237060547 L 21.66388702392578,61.54027557373047 L 21.065969467163086,62.59798049926758 L 21.67659568786621,63.02013397216797 L 21.496871948242188,63.20353698730469 L 22.339998245239258,63.27652359008789 L 22.288192749023438,63.525691986083984 L 24.539581298828125,64.79915618896484 L 25.444232940673828,64.9533920288086 L 25.303749084472656,65.51513671875 L 24.669166564941406,65.65470886230469 L 24.689163208007812,65.89610290527344 L 24.174999237060547,65.79151916503906 L 23.68471908569336,66.26332092285156 L 24.000761032104492,66.80228424072266 L 23.57332992553711,67.1570053100586 L 23.76513671875,67.4168701171875 L 23.430830001831055,67.47978210449219 L 23.6597900390625,67.94589233398438 L 20.580928802490234,69.060302734375 L 21.320831298828125,69.32611083984375 L 22.398330688476562,68.71110534667969 L 23.97638702392578,68.83248901367188 L 24.934917449951172,68.580810546875 L 25.7611083984375,68.98916625976562 L 25.95930290222168,69.68568420410156 L 26.476804733276367,69.9363784790039 L 27.91069221496582,70.08860778808594 L 29.1027774810791,69.70597076416016 L 29.29846954345703,69.48533630371094 L 28.4355525970459,68.90263366699219 L 28.817358016967773,68.84700012207031 L 28.459857940673828,68.53485107421875 L 30.028610229492188,67.69471740722656 L 29.075136184692383,66.90360260009766 L 30.13492774963379,65.70887756347656 L 29.818885803222656,65.6533203125 L 29.640830993652344,64.92096710205078 L 30.57735824584961,64.22373962402344 L 29.99671173095703,63.748023986816406 z\" /></g></svg>"
      ],
      "text/plain": [
       "<shapely.geometry.polygon.Polygon at 0x7fb7094eb7f0>"
      ]
     },
     "execution_count": 4,
     "metadata": {},
     "output_type": "execute_result"
    }
   ],
   "source": [
    "# P2. Create a shapely Polygon using the 'coordpairs' -list\n",
    "# ------------------------------------------------------------------------\n",
    "poly = Polygon(coordpairs)\n",
    "poly"
   ]
  },
  {
   "cell_type": "code",
   "execution_count": 5,
   "metadata": {},
   "outputs": [],
   "source": [
    "# P3. Create an empty GeoDataFrame\n",
    "# ---------------------------------\n",
    "geo = gpd.GeoDataFrame()"
   ]
  },
  {
   "cell_type": "code",
   "execution_count": 6,
   "metadata": {},
   "outputs": [
    {
     "data": {
      "text/html": [
       "<div>\n",
       "<style scoped>\n",
       "    .dataframe tbody tr th:only-of-type {\n",
       "        vertical-align: middle;\n",
       "    }\n",
       "\n",
       "    .dataframe tbody tr th {\n",
       "        vertical-align: top;\n",
       "    }\n",
       "\n",
       "    .dataframe thead th {\n",
       "        text-align: right;\n",
       "    }\n",
       "</style>\n",
       "<table border=\"1\" class=\"dataframe\">\n",
       "  <thead>\n",
       "    <tr style=\"text-align: right;\">\n",
       "      <th></th>\n",
       "      <th>geometry</th>\n",
       "    </tr>\n",
       "  </thead>\n",
       "  <tbody>\n",
       "    <tr>\n",
       "      <th>0</th>\n",
       "      <td>POLYGON ((29.99671173095703 63.74802398681641,...</td>\n",
       "    </tr>\n",
       "  </tbody>\n",
       "</table>\n",
       "</div>"
      ],
      "text/plain": [
       "                                            geometry\n",
       "0  POLYGON ((29.99671173095703 63.74802398681641,..."
      ]
     },
     "execution_count": 6,
     "metadata": {},
     "output_type": "execute_result"
    }
   ],
   "source": [
    "# P4. Insert our 'poly' -polygon into the 'geo' GeoDataFrame using a column name 'geometry' \n",
    "# ------------------------------------------------------------------------------------------\n",
    "# Hint: Take advantage of .loc -funtion\n",
    "geo['geometry'] = None\n",
    "geo.loc[0, 'geometry'] = poly\n",
    "geo"
   ]
  },
  {
   "cell_type": "code",
   "execution_count": 7,
   "metadata": {},
   "outputs": [],
   "source": [
    "# P5. Save the GeoDataFrame into a new Shapefile called 'polygon.shp'\n",
    "# --------------------------------------------------------------------\n",
    "# Note: you do not need to define the coordinate reference system at this time\n",
    "geo.to_file('./polygon.shp')"
   ]
  },
  {
   "cell_type": "code",
   "execution_count": 8,
   "metadata": {},
   "outputs": [
    {
     "data": {
      "text/plain": [
       "<matplotlib.axes._subplots.AxesSubplot at 0x7fb6f82fdf60>"
      ]
     },
     "execution_count": 8,
     "metadata": {},
     "output_type": "execute_result"
    }
   ],
   "source": [
    "# P6. Plot the polygon using taking advantage of the .plot() -function in GeoDataFrame. Save a PNG figure out of your plot and upload it to your GitHub repository.\n",
    "# -----------------------------------------------------------------------------------------\n",
    "geo['geometry'].plot()\n"
   ]
  },
  {
   "cell_type": "markdown",
   "metadata": {},
   "source": [
    "### Problem 2: Points to map (6 points)\n",
    "\n",
    "The problem 2 this week continues the process that we started last week, i.e. creating geometric point -objects and putting them into a map. \n",
    "Here our aim is to plot a set of x and y coordinates that we should read from a `some_posts.csv` comma separated file that contains following kind of data:\n",
    " \n",
    "```\n",
    "lat,lon,timestamp,userid\n",
    "-24.980792492,31.484633302,2015-07-07 03:02,66487960\n",
    "-25.499224667,31.508905612,2015-07-07 03:18,65281761\n",
    "-24.342578456,30.930866066,2015-03-07 03:38,90916112\n",
    "-24.85461393,31.519718439,2015-10-07 05:04,37959089\n",
    "```\n",
    "\n",
    "The data has 81379 rows and consists of locations and times of social media posts inside Kruger national park in South Africa:\n",
    "\n",
    "| Column | Description |\n",
    "|--------|-------------|\n",
    "| lat | y-coordinate of the post |\n",
    "| lon | x-coordinate of the post |\n",
    "| timestamp | Time when the post was uploaded |\n",
    "| userid | userid |\n",
    "\n",
    "*Note: although the data is based on real social media data, it is heavily anonymized. Userids and timestamps have been randomized, i.e. they do not not match with real ones, \n",
    "also spatial accuracy of the data have been lowered.*\n",
    "\n",
    "- [Download the data](https://raw.githubusercontent.com/AutoGIS-2017/Exercise-2/master/data/some_posts.csv?token=AGWdzhgsQbNFI3lk6a5GxrjguPnmuhwoks5YKVWrwA%3D%3D) (Click on the link ==> CNTRL + S)\n",
    "- Read the data into memory using Pandas\n",
    "- Create an empty column called `geometry` where you will store shapely Point objects\n",
    "- Iterate over the rows of the DataFrame and insert Point objects into column geometry (you need to use .loc indexer to update the row, [see materials](https://automating-gis-processes.github.io/2017/docs/lessons/L2/geopandas-basics.html#creating-geometries-into-a-geodataframe)\n",
    "- Convert that DataFrame into a GeoDataFrame, [see hints](https://automating-gis-processes.github.io/2017/lessons/L2/exercise-2-hints.html)\n",
    "- Update the CRS for coordinate system as WGS84 (i.e. epsg code: 4326)\n",
    "- Save the data into a Shapefile called `Kruger_posts.shp`\n",
    "- Create a simple map of those points using a GIS software or using `.plot()` -funtion in Python. Save it to GitHub as png file."
   ]
  },
  {
   "cell_type": "code",
   "execution_count": 9,
   "metadata": {},
   "outputs": [
    {
     "data": {
      "text/html": [
       "<div>\n",
       "<style scoped>\n",
       "    .dataframe tbody tr th:only-of-type {\n",
       "        vertical-align: middle;\n",
       "    }\n",
       "\n",
       "    .dataframe tbody tr th {\n",
       "        vertical-align: top;\n",
       "    }\n",
       "\n",
       "    .dataframe thead th {\n",
       "        text-align: right;\n",
       "    }\n",
       "</style>\n",
       "<table border=\"1\" class=\"dataframe\">\n",
       "  <thead>\n",
       "    <tr style=\"text-align: right;\">\n",
       "      <th></th>\n",
       "      <th>lat</th>\n",
       "      <th>lon</th>\n",
       "      <th>timestamp</th>\n",
       "      <th>userid</th>\n",
       "      <th>geometry</th>\n",
       "    </tr>\n",
       "  </thead>\n",
       "  <tbody>\n",
       "    <tr>\n",
       "      <th>0</th>\n",
       "      <td>-24.980792</td>\n",
       "      <td>31.484633</td>\n",
       "      <td>2015-07-07 03:02</td>\n",
       "      <td>66487960</td>\n",
       "      <td>POINT (-24.980792492 31.484633302)</td>\n",
       "    </tr>\n",
       "    <tr>\n",
       "      <th>1</th>\n",
       "      <td>-25.499225</td>\n",
       "      <td>31.508906</td>\n",
       "      <td>2015-07-07 03:18</td>\n",
       "      <td>65281761</td>\n",
       "      <td>POINT (-25.499224667 31.508905612)</td>\n",
       "    </tr>\n",
       "    <tr>\n",
       "      <th>2</th>\n",
       "      <td>-24.342578</td>\n",
       "      <td>30.930866</td>\n",
       "      <td>2015-03-07 03:38</td>\n",
       "      <td>90916112</td>\n",
       "      <td>POINT (-24.342578456 30.930866066)</td>\n",
       "    </tr>\n",
       "    <tr>\n",
       "      <th>3</th>\n",
       "      <td>-24.854614</td>\n",
       "      <td>31.519718</td>\n",
       "      <td>2015-10-07 05:04</td>\n",
       "      <td>37959089</td>\n",
       "      <td>POINT (-24.85461393 31.519718439)</td>\n",
       "    </tr>\n",
       "    <tr>\n",
       "      <th>4</th>\n",
       "      <td>-24.921069</td>\n",
       "      <td>31.520836</td>\n",
       "      <td>2015-10-07 05:19</td>\n",
       "      <td>27793716</td>\n",
       "      <td>POINT (-24.921068894 31.520835558)</td>\n",
       "    </tr>\n",
       "  </tbody>\n",
       "</table>\n",
       "</div>"
      ],
      "text/plain": [
       "         lat        lon         timestamp    userid  \\\n",
       "0 -24.980792  31.484633  2015-07-07 03:02  66487960   \n",
       "1 -25.499225  31.508906  2015-07-07 03:18  65281761   \n",
       "2 -24.342578  30.930866  2015-03-07 03:38  90916112   \n",
       "3 -24.854614  31.519718  2015-10-07 05:04  37959089   \n",
       "4 -24.921069  31.520836  2015-10-07 05:19  27793716   \n",
       "\n",
       "                             geometry  \n",
       "0  POINT (-24.980792492 31.484633302)  \n",
       "1  POINT (-25.499224667 31.508905612)  \n",
       "2  POINT (-24.342578456 30.930866066)  \n",
       "3   POINT (-24.85461393 31.519718439)  \n",
       "4  POINT (-24.921068894 31.520835558)  "
      ]
     },
     "execution_count": 9,
     "metadata": {},
     "output_type": "execute_result"
    }
   ],
   "source": [
    "posts = gpd.geopandas.read_file('./some_posts.csv')\n",
    "posts['lat'] = pd.to_numeric(posts['lat'])\n",
    "posts['lon'] = pd.to_numeric(posts['lon'])\n",
    "points = [Point(x, y) for x,y in zip(posts['lat'].tolist(), posts['lon'].tolist())]\n",
    "posts['geometry'] = points\n",
    "posts.head()"
   ]
  },
  {
   "cell_type": "code",
   "execution_count": 10,
   "metadata": {},
   "outputs": [
    {
     "data": {
      "text/plain": [
       "<matplotlib.axes._subplots.AxesSubplot at 0x7fb6f8371710>"
      ]
     },
     "execution_count": 10,
     "metadata": {},
     "output_type": "execute_result"
    },
    {
     "data": {
      "image/png": "[encoded data removed]",
      "text/plain": [
       "<Figure size 432x288 with 1 Axes>"
      ]
     },
     "metadata": {
      "needs_background": "light"
     },
     "output_type": "display_data"
    }
   ],
   "source": [
    "posts.crs = fiona.crs.from_epsg(4326)\n",
    "posts.to_file('Kruger_posts.shp')\n",
    "posts['geometry'].plot()"
   ]
  },
  {
   "cell_type": "markdown",
   "metadata": {},
   "source": [
    "### Problem 3: How long distance individuals have travelled? (8 points)\n",
    "\n",
    "In this problem the aim is to calculate the distance in meters that the individuals have travelled according the social\n",
    "media posts (Euclidian distances between points).\n",
    "\n",
    "Write your codes into the same file as in previous Problem (2).\n",
    "\n",
    "In your code you should:\n",
    "\n",
    " - Reproject the data from WGS84 projection into ``EPSG:32735`` -projection which stands for UTM Zone 35S (UTM zone for South Africa) to transform the data into metric system.\n",
    " - Group the data by userid\n",
    " - Create an empty GeoDataFrame called ``movements``\n",
    " - For each user: \n",
    "    - [sort](http://pandas.pydata.org/pandas-docs/stable/generated/pandas.DataFrame.sort_values.html) the rows by timestamp \n",
    "    - create LineString objects based on the points\n",
    "    - [add](http://pandas.pydata.org/pandas-docs/stable/generated/pandas.DataFrame.append.html) the geometry and the userid into the GeoDataFrame you created in the last step\n",
    " - Determine the CRS of the ``movements`` GeoDataFrame to ``EPSG:32735`` (epsg code: 32735)\n",
    " - Calculate the lenghts of the lines into a new column called ``distance`` in ``movements`` GeoDataFrame.\n",
    " - Save the movements of into a Shapefile called ``Some_movements.shp``"
   ]
  },
  {
   "cell_type": "code",
   "execution_count": 11,
   "metadata": {},
   "outputs": [],
   "source": [
    "posts.crs = fiona.crs.from_epsg(32735)\n",
    "posts['timestamp'] = pd.to_datetime(posts['timestamp'], format='%Y-%m-%d %H:%M', errors='coerce')"
   ]
  },
  {
   "cell_type": "code",
   "execution_count": 12,
   "metadata": {},
   "outputs": [
    {
     "data": {
      "text/html": [
       "<div>\n",
       "<style scoped>\n",
       "    .dataframe tbody tr th:only-of-type {\n",
       "        vertical-align: middle;\n",
       "    }\n",
       "\n",
       "    .dataframe tbody tr th {\n",
       "        vertical-align: top;\n",
       "    }\n",
       "\n",
       "    .dataframe thead th {\n",
       "        text-align: right;\n",
       "    }\n",
       "</style>\n",
       "<table border=\"1\" class=\"dataframe\">\n",
       "  <thead>\n",
       "    <tr style=\"text-align: right;\">\n",
       "      <th></th>\n",
       "      <th>lat</th>\n",
       "      <th>lon</th>\n",
       "      <th>timestamp</th>\n",
       "      <th>userid</th>\n",
       "      <th>geometry</th>\n",
       "    </tr>\n",
       "  </thead>\n",
       "  <tbody>\n",
       "    <tr>\n",
       "      <th>75328</th>\n",
       "      <td>-25.496454</td>\n",
       "      <td>31.513499</td>\n",
       "      <td>2015-11-21 09:39:00</td>\n",
       "      <td>10019337</td>\n",
       "      <td>POINT (-25.496454494 31.51349936)</td>\n",
       "    </tr>\n",
       "    <tr>\n",
       "      <th>19234</th>\n",
       "      <td>-25.031436</td>\n",
       "      <td>31.131282</td>\n",
       "      <td>2015-03-05 05:10:00</td>\n",
       "      <td>10019400</td>\n",
       "      <td>POINT (-25.031436252 31.131281769)</td>\n",
       "    </tr>\n",
       "    <tr>\n",
       "      <th>19473</th>\n",
       "      <td>-25.030995</td>\n",
       "      <td>31.133580</td>\n",
       "      <td>2015-06-06 14:42:00</td>\n",
       "      <td>10019400</td>\n",
       "      <td>POINT (-25.030995291 31.133580124)</td>\n",
       "    </tr>\n",
       "    <tr>\n",
       "      <th>19470</th>\n",
       "      <td>-25.030917</td>\n",
       "      <td>31.133576</td>\n",
       "      <td>2015-08-06 14:33:00</td>\n",
       "      <td>10019400</td>\n",
       "      <td>POINT (-25.030916878 31.133575682)</td>\n",
       "    </tr>\n",
       "    <tr>\n",
       "      <th>19472</th>\n",
       "      <td>-25.030958</td>\n",
       "      <td>31.133554</td>\n",
       "      <td>2015-08-06 14:38:00</td>\n",
       "      <td>10019400</td>\n",
       "      <td>POINT (-25.030958075 31.133553972)</td>\n",
       "    </tr>\n",
       "    <tr>\n",
       "      <th>19474</th>\n",
       "      <td>-25.030977</td>\n",
       "      <td>31.133550</td>\n",
       "      <td>2015-08-06 14:45:00</td>\n",
       "      <td>10019400</td>\n",
       "      <td>POINT (-25.030977353 31.133549782)</td>\n",
       "    </tr>\n",
       "    <tr>\n",
       "      <th>19339</th>\n",
       "      <td>-25.030968</td>\n",
       "      <td>31.133521</td>\n",
       "      <td>2015-09-05 15:46:00</td>\n",
       "      <td>10019400</td>\n",
       "      <td>POINT (-25.030967798 31.133521199)</td>\n",
       "    </tr>\n",
       "    <tr>\n",
       "      <th>35148</th>\n",
       "      <td>-24.324833</td>\n",
       "      <td>31.243000</td>\n",
       "      <td>2015-10-30 10:31:00</td>\n",
       "      <td>10020676</td>\n",
       "      <td>POINT (-24.324833333 31.243)</td>\n",
       "    </tr>\n",
       "    <tr>\n",
       "      <th>56511</th>\n",
       "      <td>-25.472567</td>\n",
       "      <td>31.090694</td>\n",
       "      <td>2015-03-02 16:12:00</td>\n",
       "      <td>10028023</td>\n",
       "      <td>POINT (-25.472567291 31.090693894)</td>\n",
       "    </tr>\n",
       "    <tr>\n",
       "      <th>55341</th>\n",
       "      <td>-25.496879</td>\n",
       "      <td>31.506578</td>\n",
       "      <td>2015-04-27 17:25:00</td>\n",
       "      <td>10028023</td>\n",
       "      <td>POINT (-25.496879122 31.50657777)</td>\n",
       "    </tr>\n",
       "    <tr>\n",
       "      <th>55353</th>\n",
       "      <td>-25.496879</td>\n",
       "      <td>31.506578</td>\n",
       "      <td>2015-07-27 18:17:00</td>\n",
       "      <td>10028023</td>\n",
       "      <td>POINT (-25.496879122 31.50657777)</td>\n",
       "    </tr>\n",
       "    <tr>\n",
       "      <th>73154</th>\n",
       "      <td>-25.442833</td>\n",
       "      <td>30.962612</td>\n",
       "      <td>2015-09-14 07:31:00</td>\n",
       "      <td>10028023</td>\n",
       "      <td>POINT (-25.442832764 30.962611758)</td>\n",
       "    </tr>\n",
       "    <tr>\n",
       "      <th>77736</th>\n",
       "      <td>-25.496241</td>\n",
       "      <td>31.516003</td>\n",
       "      <td>2015-12-27 08:48:00</td>\n",
       "      <td>10028023</td>\n",
       "      <td>POINT (-25.49624112 31.51600322)</td>\n",
       "    </tr>\n",
       "    <tr>\n",
       "      <th>69378</th>\n",
       "      <td>-25.466700</td>\n",
       "      <td>30.966700</td>\n",
       "      <td>2015-10-29 12:00:00</td>\n",
       "      <td>10030031</td>\n",
       "      <td>POINT (-25.4667 30.9667)</td>\n",
       "    </tr>\n",
       "    <tr>\n",
       "      <th>80420</th>\n",
       "      <td>-25.505439</td>\n",
       "      <td>31.334741</td>\n",
       "      <td>2015-05-02 18:07:00</td>\n",
       "      <td>1003077</td>\n",
       "      <td>POINT (-25.5054393 31.3347406)</td>\n",
       "    </tr>\n",
       "    <tr>\n",
       "      <th>46157</th>\n",
       "      <td>-24.876523</td>\n",
       "      <td>30.888692</td>\n",
       "      <td>2015-04-19 11:48:00</td>\n",
       "      <td>10034986</td>\n",
       "      <td>POINT (-24.87652338 30.88869199)</td>\n",
       "    </tr>\n",
       "    <tr>\n",
       "      <th>44478</th>\n",
       "      <td>-25.320608</td>\n",
       "      <td>31.017902</td>\n",
       "      <td>2015-01-12 16:04:00</td>\n",
       "      <td>10051964</td>\n",
       "      <td>POINT (-25.320607899 31.017902496)</td>\n",
       "    </tr>\n",
       "    <tr>\n",
       "      <th>63719</th>\n",
       "      <td>-25.289992</td>\n",
       "      <td>31.054617</td>\n",
       "      <td>2015-02-02 16:11:00</td>\n",
       "      <td>10051964</td>\n",
       "      <td>POINT (-25.289991881 31.054616711)</td>\n",
       "    </tr>\n",
       "    <tr>\n",
       "      <th>23997</th>\n",
       "      <td>-25.295003</td>\n",
       "      <td>31.002069</td>\n",
       "      <td>2015-03-01 12:37:00</td>\n",
       "      <td>10051964</td>\n",
       "      <td>POINT (-25.295002987 31.002068985)</td>\n",
       "    </tr>\n",
       "    <tr>\n",
       "      <th>63724</th>\n",
       "      <td>-25.289992</td>\n",
       "      <td>31.054617</td>\n",
       "      <td>2015-03-02 16:28:00</td>\n",
       "      <td>10051964</td>\n",
       "      <td>POINT (-25.289991881 31.054616711)</td>\n",
       "    </tr>\n",
       "  </tbody>\n",
       "</table>\n",
       "</div>"
      ],
      "text/plain": [
       "             lat        lon           timestamp    userid  \\\n",
       "75328 -25.496454  31.513499 2015-11-21 09:39:00  10019337   \n",
       "19234 -25.031436  31.131282 2015-03-05 05:10:00  10019400   \n",
       "19473 -25.030995  31.133580 2015-06-06 14:42:00  10019400   \n",
       "19470 -25.030917  31.133576 2015-08-06 14:33:00  10019400   \n",
       "19472 -25.030958  31.133554 2015-08-06 14:38:00  10019400   \n",
       "19474 -25.030977  31.133550 2015-08-06 14:45:00  10019400   \n",
       "19339 -25.030968  31.133521 2015-09-05 15:46:00  10019400   \n",
       "35148 -24.324833  31.243000 2015-10-30 10:31:00  10020676   \n",
       "56511 -25.472567  31.090694 2015-03-02 16:12:00  10028023   \n",
       "55341 -25.496879  31.506578 2015-04-27 17:25:00  10028023   \n",
       "55353 -25.496879  31.506578 2015-07-27 18:17:00  10028023   \n",
       "73154 -25.442833  30.962612 2015-09-14 07:31:00  10028023   \n",
       "77736 -25.496241  31.516003 2015-12-27 08:48:00  10028023   \n",
       "69378 -25.466700  30.966700 2015-10-29 12:00:00  10030031   \n",
       "80420 -25.505439  31.334741 2015-05-02 18:07:00   1003077   \n",
       "46157 -24.876523  30.888692 2015-04-19 11:48:00  10034986   \n",
       "44478 -25.320608  31.017902 2015-01-12 16:04:00  10051964   \n",
       "63719 -25.289992  31.054617 2015-02-02 16:11:00  10051964   \n",
       "23997 -25.295003  31.002069 2015-03-01 12:37:00  10051964   \n",
       "63724 -25.289992  31.054617 2015-03-02 16:28:00  10051964   \n",
       "\n",
       "                                 geometry  \n",
       "75328   POINT (-25.496454494 31.51349936)  \n",
       "19234  POINT (-25.031436252 31.131281769)  \n",
       "19473  POINT (-25.030995291 31.133580124)  \n",
       "19470  POINT (-25.030916878 31.133575682)  \n",
       "19472  POINT (-25.030958075 31.133553972)  \n",
       "19474  POINT (-25.030977353 31.133549782)  \n",
       "19339  POINT (-25.030967798 31.133521199)  \n",
       "35148        POINT (-24.324833333 31.243)  \n",
       "56511  POINT (-25.472567291 31.090693894)  \n",
       "55341   POINT (-25.496879122 31.50657777)  \n",
       "55353   POINT (-25.496879122 31.50657777)  \n",
       "73154  POINT (-25.442832764 30.962611758)  \n",
       "77736    POINT (-25.49624112 31.51600322)  \n",
       "69378            POINT (-25.4667 30.9667)  \n",
       "80420      POINT (-25.5054393 31.3347406)  \n",
       "46157    POINT (-24.87652338 30.88869199)  \n",
       "44478  POINT (-25.320607899 31.017902496)  \n",
       "63719  POINT (-25.289991881 31.054616711)  \n",
       "23997  POINT (-25.295002987 31.002068985)  \n",
       "63724  POINT (-25.289991881 31.054616711)  "
      ]
     },
     "execution_count": 12,
     "metadata": {},
     "output_type": "execute_result"
    }
   ],
   "source": [
    "posts.sort_values(['userid', 'timestamp'], inplace=True)\n",
    "posts.head(20)"
   ]
  },
  {
   "cell_type": "code",
   "execution_count": null,
   "metadata": {},
   "outputs": [],
   "source": []
  }
 ],
 "metadata": {
  "kernelspec": {
   "display_name": "Python 3",
   "language": "python",
   "name": "python3"
  },
  "language_info": {
   "codemirror_mode": {
    "name": "ipython",
    "version": 3
   },
   "file_extension": ".py",
   "mimetype": "text/x-python",
   "name": "python",
   "nbconvert_exporter": "python",
   "pygments_lexer": "ipython3",
   "version": "3.7.3"
  }
 },
 "nbformat": 4,
 "nbformat_minor": 2
}
