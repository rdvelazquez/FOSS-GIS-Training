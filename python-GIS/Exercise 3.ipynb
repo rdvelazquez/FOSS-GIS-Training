{
 "cells": [
  {
   "cell_type": "markdown",
   "metadata": {},
   "source": [
    "# Exercise 3 from the intro to python gis course\n",
    "https://github.com/AutoGIS-2017/Exercise-3"
   ]
  },
  {
   "cell_type": "code",
   "execution_count": 1,
   "metadata": {},
   "outputs": [],
   "source": [
    "import geopandas as gpd\n",
    "from geopandas.tools import geocode\n",
    "import pandas as pd\n",
    "from shapely.geometry import Point, LineString, Polygon\n",
    "import fiona"
   ]
  },
  {
   "cell_type": "markdown",
   "metadata": {},
   "source": [
    "## Problem 1: Geocode shopping centers (5 points)\n",
    "\n",
    "In the first problem the aim is to find out the addresses of shopping centers and geocoding them as a single Shapefile called `shopping_centers.shp`.\n",
    "\n",
    "**Steps**\n",
    "\n",
    "- From the internet find out the addresses for following shopping centers and write the addresses into a text file called `shopping_centers.txt`:\n",
    "\n",
    " - Itis\n",
    " - Forum\n",
    " - Iso-omena\n",
    " - Sello\n",
    " - Jumbo\n",
    " - REDI (i.e. use the metro station of Kalasatama)\n",
    "\n",
    "Use same kind of formatting for the text file as in the [lesson materials](https://automating-gis-processes.github.io/2017/lessons/L3/geocoding.html#geocoding-in-geopandas), thus use semicolon `;` as a separator and add a unique integer number as `id` (doesn't matter what) for each center. \n",
    "\n",
    "- Geocode the addresses in Geopandas in a similar manner as was done in the [lesson materials](https://automating-gis-processes.github.io/2016/Lesson3-geocoding.html#geocoding-in-geopandas)\n",
    "\n",
    "- Reproject the geometries into a EPSG projection 3879 similarly as in [lesson materials](https://automating-gis-processes.github.io/2016/Lesson3-projections.html#projections-converting-from-projection-to-another)\n",
    "  \n",
    "   - **Notice**: you need to pass the coordinate information as a proj 4 dictionary in a similar manner as in the lesson materials (see the second last bullet point in the [lesson materials](https://automating-gis-processes.github.io/2016/Lesson3-projections.html#projections-converting-from-projection-to-another)\n",
    "\n",
    "- Make a Table join to retrieve the `id` column from original shopping centers DataFrame similarly as in [lesson materials](https://automating-gis-processes.github.io/2016/Lesson3-table-join.html)\n",
    "\n",
    "- Save the GeoDataFrame as a Shapefile called `shopping_centers.shp`"
   ]
  },
  {
   "cell_type": "code",
   "execution_count": 2,
   "metadata": {},
   "outputs": [],
   "source": [
    "shoppingCenterAddresses = pd.read_csv('./shopping_centers.csv', delimiter=';')\n",
    "shoppingCenters = geocode(shoppingCenterAddresses['addr'], provider='nominatim')"
   ]
  },
  {
   "cell_type": "code",
   "execution_count": 3,
   "metadata": {},
   "outputs": [],
   "source": [
    "shoppingCenters['geometry'] = shoppingCenters['geometry'].to_crs(epsg=3879)"
   ]
  },
  {
   "cell_type": "code",
   "execution_count": 4,
   "metadata": {},
   "outputs": [],
   "source": [
    "shoppingCenters.join(shoppingCenterAddresses)\n",
    "shoppingCenters.to_file(\"shopping_centers.shp\")"
   ]
  },
  {
   "cell_type": "markdown",
   "metadata": {},
   "source": [
    "## Problem 2: Create buffers around shopping centers (5 points)\n",
    "\n",
    "Let's continue with our case study and calculate a 5 km `buffer` around the points. \n",
    "\n",
    "**Steps**\n",
    "\n",
    "- Create a new column called `buffer` to your shopping-centers GeoDataFrame (or whatever you call it)\n",
    "\n",
    "- Iterate over the rows in your GeoDataFrame and update the `buffer` column with a 5 km buffer Polygon.\n",
    "  \n",
    "  - Use Shapely's [buffer](http://toblerity.org/shapely/manual.html#object.buffer) function to create it (see the link for details how to use it)\n",
    "  - You only need to use the `distance` -parameter, don't care about the other parameters.\n",
    "  \n",
    "- Replace the values in `geometry` column with the values of `buffer` column"
   ]
  },
  {
   "cell_type": "code",
   "execution_count": 5,
   "metadata": {},
   "outputs": [],
   "source": [
    "shoppingCenterPoints = shoppingCenters['geometry'].to_list()\n",
    "shoppingCenterPointBuffers = [point.buffer(5000) for point in shoppingCenterPoints]\n",
    "shoppingCenters['geometry'] = shoppingCenterPointBuffers"
   ]
  },
  {
   "cell_type": "markdown",
   "metadata": {},
   "source": [
    "## Problem 3: How many people live within 5 km from shopping centers? (5 points)\n",
    "\n",
    "Last step in our analysis is to make a spatial join between our point-buffer layer and the same population grid that was [used in the lesson materials](https://automating-gis-processes.github.io/2016/Lesson3-spatial-join.html#download-and-clean-the-data).\n",
    "\n",
    "**Steps**\n",
    "\n",
    "- Read and prepare the population grid into a GeoDataFrame similarly as in [the lesson materials](https://automating-gis-processes.github.io/2016/Lesson3-spatial-join.html#download-and-clean-the-data)\n",
    "\n",
    "- Make a spatial join between your buffered point layer and population grid layer\n",
    "\n",
    "  - Note: Join the information now from buffer layer **into the population grid layer**\n",
    "\n",
    "- Group the joined layer by shopping center index\n",
    "\n",
    "- Calculate the sum of population living within 5 km for each shopping center.\n",
    "  \n",
    "  - Write the answers down here into the [Answers](#answers) section"
   ]
  },
  {
   "cell_type": "code",
   "execution_count": 6,
   "metadata": {},
   "outputs": [],
   "source": [
    "pop = gpd.read_file('./Vaestotietoruudukko_2015/Vaestotietoruudukko_2015.shp')\n",
    "pop.rename(columns={'ASUKKAITA': 'population'}, inplace=True)\n",
    "pop = pop[['geometry', 'population']]"
   ]
  },
  {
   "cell_type": "code",
   "execution_count": 7,
   "metadata": {},
   "outputs": [],
   "source": [
    "pop.crs == shoppingCenters.crs\n",
    "pop['geometry'] = pop['geometry'].to_crs(epsg=3879)"
   ]
  },
  {
   "cell_type": "code",
   "execution_count": 8,
   "metadata": {},
   "outputs": [
    {
     "name": "stderr",
     "output_type": "stream",
     "text": [
      "/anaconda3/envs/pythonGIS/lib/python3.7/site-packages/geopandas/tools/sjoin.py:56: UserWarning: CRS of frames being joined does not match!({'init': 'epsg:4326', 'no_defs': True} != {'init': 'epsg:3879'})\n",
      "  '(%s != %s)' % (left_df.crs, right_df.crs))\n"
     ]
    },
    {
     "data": {
      "text/html": [
       "<div>\n",
       "<style scoped>\n",
       "    .dataframe tbody tr th:only-of-type {\n",
       "        vertical-align: middle;\n",
       "    }\n",
       "\n",
       "    .dataframe tbody tr th {\n",
       "        vertical-align: top;\n",
       "    }\n",
       "\n",
       "    .dataframe thead th {\n",
       "        text-align: right;\n",
       "    }\n",
       "</style>\n",
       "<table border=\"1\" class=\"dataframe\">\n",
       "  <thead>\n",
       "    <tr style=\"text-align: right;\">\n",
       "      <th></th>\n",
       "      <th>geometry</th>\n",
       "      <th>address</th>\n",
       "      <th>population</th>\n",
       "    </tr>\n",
       "  </thead>\n",
       "  <tbody>\n",
       "    <tr>\n",
       "      <th>0</th>\n",
       "      <td>POLYGON ((25509598.60162312 6677662.108634275,...</td>\n",
       "      <td>Kauppakeskus Itis, 1-7, Itäkatu, Itäkeskus, Va...</td>\n",
       "      <td>579</td>\n",
       "    </tr>\n",
       "    <tr>\n",
       "      <th>0</th>\n",
       "      <td>POLYGON ((25509598.60162312 6677662.108634275,...</td>\n",
       "      <td>Kauppakeskus Itis, 1-7, Itäkatu, Itäkeskus, Va...</td>\n",
       "      <td>370</td>\n",
       "    </tr>\n",
       "    <tr>\n",
       "      <th>0</th>\n",
       "      <td>POLYGON ((25509598.60162312 6677662.108634275,...</td>\n",
       "      <td>Kauppakeskus Itis, 1-7, Itäkatu, Itäkeskus, Va...</td>\n",
       "      <td>674</td>\n",
       "    </tr>\n",
       "    <tr>\n",
       "      <th>0</th>\n",
       "      <td>POLYGON ((25509598.60162312 6677662.108634275,...</td>\n",
       "      <td>Kauppakeskus Itis, 1-7, Itäkatu, Itäkeskus, Va...</td>\n",
       "      <td>136</td>\n",
       "    </tr>\n",
       "    <tr>\n",
       "      <th>0</th>\n",
       "      <td>POLYGON ((25509598.60162312 6677662.108634275,...</td>\n",
       "      <td>Kauppakeskus Itis, 1-7, Itäkatu, Itäkeskus, Va...</td>\n",
       "      <td>276</td>\n",
       "    </tr>\n",
       "  </tbody>\n",
       "</table>\n",
       "</div>"
      ],
      "text/plain": [
       "                                            geometry  \\\n",
       "0  POLYGON ((25509598.60162312 6677662.108634275,...   \n",
       "0  POLYGON ((25509598.60162312 6677662.108634275,...   \n",
       "0  POLYGON ((25509598.60162312 6677662.108634275,...   \n",
       "0  POLYGON ((25509598.60162312 6677662.108634275,...   \n",
       "0  POLYGON ((25509598.60162312 6677662.108634275,...   \n",
       "\n",
       "                                             address  population  \n",
       "0  Kauppakeskus Itis, 1-7, Itäkatu, Itäkeskus, Va...         579  \n",
       "0  Kauppakeskus Itis, 1-7, Itäkatu, Itäkeskus, Va...         370  \n",
       "0  Kauppakeskus Itis, 1-7, Itäkatu, Itäkeskus, Va...         674  \n",
       "0  Kauppakeskus Itis, 1-7, Itäkatu, Itäkeskus, Va...         136  \n",
       "0  Kauppakeskus Itis, 1-7, Itäkatu, Itäkeskus, Va...         276  "
      ]
     },
     "execution_count": 8,
     "metadata": {},
     "output_type": "execute_result"
    }
   ],
   "source": [
    "shoppingPop = gpd.sjoin(shoppingCenters, pop, how=\"inner\", op='intersects')\n",
    "shoppingPop.drop(['index_right'], axis=1, inplace=True)\n",
    "shoppingPop.head()"
   ]
  },
  {
   "cell_type": "code",
   "execution_count": 9,
   "metadata": {},
   "outputs": [
    {
     "data": {
      "text/html": [
       "<div>\n",
       "<style scoped>\n",
       "    .dataframe tbody tr th:only-of-type {\n",
       "        vertical-align: middle;\n",
       "    }\n",
       "\n",
       "    .dataframe tbody tr th {\n",
       "        vertical-align: top;\n",
       "    }\n",
       "\n",
       "    .dataframe thead th {\n",
       "        text-align: right;\n",
       "    }\n",
       "</style>\n",
       "<table border=\"1\" class=\"dataframe\">\n",
       "  <thead>\n",
       "    <tr style=\"text-align: right;\">\n",
       "      <th></th>\n",
       "      <th>population</th>\n",
       "    </tr>\n",
       "    <tr>\n",
       "      <th>address</th>\n",
       "      <th></th>\n",
       "    </tr>\n",
       "  </thead>\n",
       "  <tbody>\n",
       "    <tr>\n",
       "      <th>3-9, Leppävaarankatu, Etelä-Leppävaara, Leppävaara, Suur-Leppävaara, Espoo, Helsingin seutukunta, Uusimaa, Etelä-Suomi, Manner-Suomi, 02600, Suomi</th>\n",
       "      <td>196257</td>\n",
       "    </tr>\n",
       "    <tr>\n",
       "      <th>Iso Omena, 11, Piispansilta, Espoo, Helsingin seutukunta, Uusimaa, Etelä-Suomi, Manner-Suomi, 02230, Suomi</th>\n",
       "      <td>116855</td>\n",
       "    </tr>\n",
       "    <tr>\n",
       "      <th>Kauppakeskus Itis, 1-7, Itäkatu, Itäkeskus, Vartiokylä, Helsinki, Helsingin seutukunta, Uusimaa, Etelä-Suomi, Manner-Suomi, 00930, Suomi</th>\n",
       "      <td>183140</td>\n",
       "    </tr>\n",
       "    <tr>\n",
       "      <th>Salaattiasema, 14-20, Mannerheimintie, Keskusta, Kluuvi, Eteläinen suurpiiri, Helsinki, Helsingin seutukunta, Uusimaa, Etelä-Suomi, Manner-Suomi, 00100, Suomi</th>\n",
       "      <td>224565</td>\n",
       "    </tr>\n",
       "    <tr>\n",
       "      <th>Stockmann, 3, Vantaanportinkatu, Pakkala, Aviapoliksen suuralue, Vantaa, Helsingin seutukunta, Uusimaa, Etelä-Suomi, Manner-Suomi, 01510, Suomi</th>\n",
       "      <td>108346</td>\n",
       "    </tr>\n",
       "    <tr>\n",
       "      <th>Sörnäinen, Etelä-Suomi, Manner-Suomi, 00580, Suomi</th>\n",
       "      <td>267338</td>\n",
       "    </tr>\n",
       "  </tbody>\n",
       "</table>\n",
       "</div>"
      ],
      "text/plain": [
       "                                                    population\n",
       "address                                                       \n",
       "3-9, Leppävaarankatu, Etelä-Leppävaara, Leppäva...      196257\n",
       "Iso Omena, 11, Piispansilta, Espoo, Helsingin s...      116855\n",
       "Kauppakeskus Itis, 1-7, Itäkatu, Itäkeskus, Var...      183140\n",
       "Salaattiasema, 14-20, Mannerheimintie, Keskusta...      224565\n",
       "Stockmann, 3, Vantaanportinkatu, Pakkala, Aviap...      108346\n",
       "Sörnäinen, Etelä-Suomi, Manner-Suomi, 00580, Suomi      267338"
      ]
     },
     "execution_count": 9,
     "metadata": {},
     "output_type": "execute_result"
    }
   ],
   "source": [
    "shoppingPop.groupby(['address']).sum()"
   ]
  }
 ],
 "metadata": {
  "kernelspec": {
   "display_name": "Python 3",
   "language": "python",
   "name": "python3"
  },
  "language_info": {
   "codemirror_mode": {
    "name": "ipython",
    "version": 3
   },
   "file_extension": ".py",
   "mimetype": "text/x-python",
   "name": "python",
   "nbconvert_exporter": "python",
   "pygments_lexer": "ipython3",
   "version": "3.7.3"
  }
 },
 "nbformat": 4,
 "nbformat_minor": 2
}
