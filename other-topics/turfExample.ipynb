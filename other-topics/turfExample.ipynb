{
 "cells": [
  {
   "cell_type": "code",
   "execution_count": 1,
   "metadata": {},
   "outputs": [],
   "source": [
    "const turf = require('turf')"
   ]
  },
  {
   "cell_type": "code",
   "execution_count": 2,
   "metadata": {},
   "outputs": [
    {
     "name": "stdout",
     "output_type": "stream",
     "text": [
      "area:  12391399902.071121\n"
     ]
    }
   ],
   "source": [
    "const exampleGeoJSONPolygon = {\n",
    "      \"type\": \"Feature\",\n",
    "      \"geometry\": {\n",
    "        \"type\": \"Polygon\",\n",
    "        \"coordinates\": [\n",
    "          [\n",
    "            [100.0, 0.0], [101.0, 0.0], [101.0, 1.0],\n",
    "            [100.0, 1.0], [100.0, 0.0]\n",
    "          ]\n",
    "        ]\n",
    "      },\n",
    "      \"properties\": {\n",
    "        \"prop0\": \"value0\",\n",
    "        \"prop1\": { \"this\": \"that\" }\n",
    "      }\n",
    "}\n",
    "var area = turf.area(exampleGeoJSONPolygon)\n",
    "console.log('area: ', area)"
   ]
  },
  {
   "cell_type": "code",
   "execution_count": 3,
   "metadata": {},
   "outputs": [],
   "source": [
    "const exampleGeoJSONPointInside = {\n",
    "      \"type\": \"Feature\",\n",
    "      \"geometry\": {\n",
    "        \"type\": \"Point\",\n",
    "        \"coordinates\": [\n",
    "          100.1, 0.1\n",
    "        ]\n",
    "      },\n",
    "      \"properties\": {\n",
    "        \"prop0\": \"Inside!\"\n",
    "      }\n",
    "}\n",
    "\n",
    "const exampleGeoJSONPointOutside = {\n",
    "      \"type\": \"Feature\",\n",
    "      \"geometry\": {\n",
    "        \"type\": \"Point\",\n",
    "        \"coordinates\": [\n",
    "          102.1, 0.1\n",
    "        ]\n",
    "      },\n",
    "      \"properties\": {\n",
    "        \"prop0\": \"Outside!\"\n",
    "      }\n",
    "}"
   ]
  }
 ],
 "metadata": {
  "kernelspec": {
   "display_name": "Javascript (Node.js)",
   "language": "javascript",
   "name": "javascript"
  },
  "language_info": {
   "file_extension": ".js",
   "mimetype": "application/javascript",
   "name": "javascript",
   "version": "8.11.3"
  }
 },
 "nbformat": 4,
 "nbformat_minor": 2
}
